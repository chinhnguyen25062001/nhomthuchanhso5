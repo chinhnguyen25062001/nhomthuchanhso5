{
  "nbformat": 4,
  "nbformat_minor": 0,
  "metadata": {
    "colab": {
      "name": "Taobien.ipynb",
      "provenance": [],
      "authorship_tag": "ABX9TyOfio47bOnG/r6snAUfOAHn",
      "include_colab_link": true
    },
    "kernelspec": {
      "name": "python3",
      "display_name": "Python 3"
    },
    "language_info": {
      "name": "python"
    }
  },
  "cells": [
    {
      "cell_type": "markdown",
      "metadata": {
        "id": "view-in-github",
        "colab_type": "text"
      },
      "source": [
        "<a href=\"https://colab.research.google.com/github/chinhnguyen25062001/nhomthuchanhso5/blob/master/Taobien.ipynb\" target=\"_parent\"><img src=\"https://colab.research.google.com/assets/colab-badge.svg\" alt=\"Open In Colab\"/></a>"
      ]
    },
    {
      "cell_type": "code",
      "metadata": {
        "id": "-qrL-oAeODmw"
      },
      "source": [
        "Đề bài: Tảo biển sinh sản rất nhanh khi có môi trường thuận lợi với chúng và có những loài còn tiết ra môi trường những chất độc hại. Một loại tảo nâu trong môi trường nước bị ô nhiễm nặng sinh sản theo quy luật sau:\n",
        "Ngày đầu tiên (ngày 0) có n cá thể ở mức 1\n",
        "Ở mỗi ngày tiếp theo, mỗi cá thể mức i sinh ra i cá thể mức 1, các cá thể mới sinh sẽ sinh sôi, phát triển từ ngày hôm sau\n",
        "Bản thân các cá thể mức i phát triển thành mức i+1 và chu kì phát triển trong ngày chấm dứt\n",
        "\n",
        "Hãy xác định sau k ngày trong nước biển có bao nhiêu cá thể\n",
        "Dữ liệu: Vào từ thiết bị nhập chuẩn gồm một dòng chứa 2 số nguyên n và k (1<=n<=1000, 1<=k<=105)\n",
        "Kết quả: Đưa ra thiết bị xuất chuẩn gồm một số nguyên - số lượng cá thể tảo theo mô đun 109+7"
      ],
      "execution_count": null,
      "outputs": []
    }
  ]
}